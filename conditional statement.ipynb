{
 "cells": [
  {
   "cell_type": "code",
   "execution_count": 1,
   "metadata": {},
   "outputs": [
    {
     "name": "stdout",
     "output_type": "stream",
     "text": [
      "enter any number12\n",
      "the given number is even\n"
     ]
    }
   ],
   "source": [
    "x = int(input(\"enter any number\"))\n",
    "\n",
    "if x%2==0:\n",
    "    print(\"the given number is even\")\n",
    "else:\n",
    "    print(\"the given number is odd\")"
   ]
  },
  {
   "cell_type": "code",
   "execution_count": 2,
   "metadata": {},
   "outputs": [
    {
     "name": "stdout",
     "output_type": "stream",
     "text": [
      "enter your age45\n",
      "you are old\n"
     ]
    }
   ],
   "source": [
    "age = int(input(\"enter your age\"))\n",
    "\n",
    "\n",
    "if age<12:\n",
    "    print(\"you are child \")\n",
    "elif age>12 and age<20:\n",
    "    print(\"you are teen age\")\n",
    "elif age>20 and age<35:\n",
    "    print(\"you are young\")\n",
    "elif age>35 and age<60:\n",
    "    print(\"you are old\")\n",
    "elif age>60 and age<80:\n",
    "    print(\"you are legend\")\n",
    "else:\n",
    "    print(\"you are ready to die\")\n",
    "    "
   ]
  },
  {
   "cell_type": "code",
   "execution_count": 7,
   "metadata": {},
   "outputs": [
    {
     "name": "stdout",
     "output_type": "stream",
     "text": [
      "hi\n"
     ]
    }
   ],
   "source": [
    "if 10>20:print(\"yes\")\n",
    "else: print(\"hi\")"
   ]
  },
  {
   "cell_type": "code",
   "execution_count": null,
   "metadata": {},
   "outputs": [],
   "source": []
  }
 ],
 "metadata": {
  "kernelspec": {
   "display_name": "Python 3",
   "language": "python",
   "name": "python3"
  },
  "language_info": {
   "codemirror_mode": {
    "name": "ipython",
    "version": 3
   },
   "file_extension": ".py",
   "mimetype": "text/x-python",
   "name": "python",
   "nbconvert_exporter": "python",
   "pygments_lexer": "ipython3",
   "version": "3.6.4"
  }
 },
 "nbformat": 4,
 "nbformat_minor": 2
}
