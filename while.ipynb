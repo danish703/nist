{
 "cells": [
  {
   "cell_type": "code",
   "execution_count": 1,
   "metadata": {},
   "outputs": [
    {
     "name": "stdout",
     "output_type": "stream",
     "text": [
      "enter any number5\n",
      "5 * 1=5\n",
      "5 * 2=10\n",
      "5 * 3=15\n",
      "5 * 4=20\n",
      "5 * 5=25\n",
      "5 * 6=30\n",
      "5 * 7=35\n",
      "5 * 8=40\n",
      "5 * 9=45\n",
      "5 * 10=50\n"
     ]
    }
   ],
   "source": [
    "n = int(input(\"enter any number\"))\n",
    "\n",
    "m = 1\n",
    "while m<=10:\n",
    "    print(f\"{n} * {m}={m*n}\")\n",
    "    m+=1\n"
   ]
  },
  {
   "cell_type": "code",
   "execution_count": null,
   "metadata": {},
   "outputs": [],
   "source": []
  }
 ],
 "metadata": {
  "kernelspec": {
   "display_name": "Python 3",
   "language": "python",
   "name": "python3"
  },
  "language_info": {
   "codemirror_mode": {
    "name": "ipython",
    "version": 3
   },
   "file_extension": ".py",
   "mimetype": "text/x-python",
   "name": "python",
   "nbconvert_exporter": "python",
   "pygments_lexer": "ipython3",
   "version": "3.6.4"
  }
 },
 "nbformat": 4,
 "nbformat_minor": 2
}
